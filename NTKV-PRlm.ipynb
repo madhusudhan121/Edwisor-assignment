{
 "cells": [
  {
   "cell_type": "markdown",
   "metadata": {},
   "source": [
    "Import necessary modules to conduct Data exploration"
   ]
  },
  {
   "cell_type": "code",
   "execution_count": 1,
   "metadata": {},
   "outputs": [],
   "source": [
    "#import modules\n",
    "import os\n",
    "import pandas as pd\n",
    "import numpy as np"
   ]
  },
  {
   "cell_type": "markdown",
   "metadata": {},
   "source": [
    "Give the necessary path for a directory to carry out the work"
   ]
  },
  {
   "cell_type": "code",
   "execution_count": 2,
   "metadata": {},
   "outputs": [],
   "source": [
    "#set working directory\n",
    "os.chdir(\"C:\\\\Users\\\\madjn\\\\Desktop\\\\edwisor\\\\Module3\\\\data01s2l1\")"
   ]
  },
  {
   "cell_type": "code",
   "execution_count": 3,
   "metadata": {},
   "outputs": [
    {
     "data": {
      "text/plain": [
       "'C:\\\\Users\\\\madjn\\\\Desktop\\\\edwisor\\\\Module3\\\\data01s2l1'"
      ]
     },
     "execution_count": 3,
     "metadata": {},
     "output_type": "execute_result"
    }
   ],
   "source": [
    "#directory check\n",
    "os.getcwd()"
   ]
  },
  {
   "attachments": {},
   "cell_type": "markdown",
   "metadata": {},
   "source": [
    "Load CSV in python by skipping second row"
   ]
  },
  {
   "cell_type": "code",
   "execution_count": 4,
   "metadata": {},
   "outputs": [],
   "source": [
    "#import IMDB data .csv file skipping second row\n",
    "IMDB_dat=pd.read_csv(\"C:\\\\Users\\\\madjn\\\\Desktop\\\\edwisor\\\\Module3\\\\data01s2l1\\\\IMDB_data.csv\",encoding='latin1',skiprows=[2])"
   ]
  },
  {
   "cell_type": "markdown",
   "metadata": {},
   "source": [
    "Read few rows to see the heading of the CSV file and to make a sample sense of what is there in the file"
   ]
  },
  {
   "cell_type": "code",
   "execution_count": 5,
   "metadata": {},
   "outputs": [
    {
     "data": {
      "text/html": [
       "<div>\n",
       "<style scoped>\n",
       "    .dataframe tbody tr th:only-of-type {\n",
       "        vertical-align: middle;\n",
       "    }\n",
       "\n",
       "    .dataframe tbody tr th {\n",
       "        vertical-align: top;\n",
       "    }\n",
       "\n",
       "    .dataframe thead th {\n",
       "        text-align: right;\n",
       "    }\n",
       "</style>\n",
       "<table border=\"1\" class=\"dataframe\">\n",
       "  <thead>\n",
       "    <tr style=\"text-align: right;\">\n",
       "      <th></th>\n",
       "      <th>Plot</th>\n",
       "      <th>Title</th>\n",
       "      <th>imdbVotes</th>\n",
       "      <th>Poster</th>\n",
       "      <th>imdbRating</th>\n",
       "      <th>Genre</th>\n",
       "      <th>imdbID</th>\n",
       "      <th>Year</th>\n",
       "      <th>Language</th>\n",
       "    </tr>\n",
       "  </thead>\n",
       "  <tbody>\n",
       "    <tr>\n",
       "      <th>0</th>\n",
       "      <td>Despite his tarnished reputation after the eve...</td>\n",
       "      <td>The Dark Knight Rises</td>\n",
       "      <td>2679</td>\n",
       "      <td>http://ia.media-imdb.com/images/M/MV5BMTk4ODQz...</td>\n",
       "      <td>75</td>\n",
       "      <td>Action, Thriller</td>\n",
       "      <td>tt1345836</td>\n",
       "      <td>2012</td>\n",
       "      <td>English</td>\n",
       "    </tr>\n",
       "    <tr>\n",
       "      <th>1</th>\n",
       "      <td>Based on the novel written by Stephen Chbosky,...</td>\n",
       "      <td>The Perks of Being a Wallflower</td>\n",
       "      <td>1270</td>\n",
       "      <td>http://ia.media-imdb.com/images/M/MV5BMzIxOTQy...</td>\n",
       "      <td>71</td>\n",
       "      <td>Drama, Romance</td>\n",
       "      <td>tt1659337</td>\n",
       "      <td>2012</td>\n",
       "      <td>English</td>\n",
       "    </tr>\n",
       "    <tr>\n",
       "      <th>2</th>\n",
       "      <td>Mike Lane is a thirty-year old living in Tampa...</td>\n",
       "      <td>Magic Mike</td>\n",
       "      <td>2580</td>\n",
       "      <td>http://ia.media-imdb.com/images/M/MV5BMTQzMDMz...</td>\n",
       "      <td>51</td>\n",
       "      <td>Comedy, Drama</td>\n",
       "      <td>tt1915581</td>\n",
       "      <td>2012</td>\n",
       "      <td>English</td>\n",
       "    </tr>\n",
       "    <tr>\n",
       "      <th>3</th>\n",
       "      <td>When Bond's latest assignment goes gravely wro...</td>\n",
       "      <td>Skyfall</td>\n",
       "      <td>1807</td>\n",
       "      <td>http://ia.media-imdb.com/images/M/MV5BMjAyODkz...</td>\n",
       "      <td>68</td>\n",
       "      <td>Action, Thriller</td>\n",
       "      <td>tt1074638</td>\n",
       "      <td>2012</td>\n",
       "      <td>English</td>\n",
       "    </tr>\n",
       "    <tr>\n",
       "      <th>4</th>\n",
       "      <td>Against medical advice and without the knowled...</td>\n",
       "      <td>Silver Linings Playbook</td>\n",
       "      <td>1828</td>\n",
       "      <td>http://ia.media-imdb.com/images/M/MV5BMTM2MTI5...</td>\n",
       "      <td>68</td>\n",
       "      <td>Comedy, Drama, Romance</td>\n",
       "      <td>tt1045658</td>\n",
       "      <td>2012</td>\n",
       "      <td>English</td>\n",
       "    </tr>\n",
       "  </tbody>\n",
       "</table>\n",
       "</div>"
      ],
      "text/plain": [
       "                                                Plot  \\\n",
       "0  Despite his tarnished reputation after the eve...   \n",
       "1  Based on the novel written by Stephen Chbosky,...   \n",
       "2  Mike Lane is a thirty-year old living in Tampa...   \n",
       "3  When Bond's latest assignment goes gravely wro...   \n",
       "4  Against medical advice and without the knowled...   \n",
       "\n",
       "                             Title imdbVotes  \\\n",
       "0            The Dark Knight Rises      2679   \n",
       "1  The Perks of Being a Wallflower      1270   \n",
       "2                       Magic Mike      2580   \n",
       "3                          Skyfall      1807   \n",
       "4          Silver Linings Playbook      1828   \n",
       "\n",
       "                                              Poster imdbRating  \\\n",
       "0  http://ia.media-imdb.com/images/M/MV5BMTk4ODQz...         75   \n",
       "1  http://ia.media-imdb.com/images/M/MV5BMzIxOTQy...         71   \n",
       "2  http://ia.media-imdb.com/images/M/MV5BMTQzMDMz...         51   \n",
       "3  http://ia.media-imdb.com/images/M/MV5BMjAyODkz...         68   \n",
       "4  http://ia.media-imdb.com/images/M/MV5BMTM2MTI5...         68   \n",
       "\n",
       "                    Genre     imdbID  Year                     Language  \n",
       "0        Action, Thriller  tt1345836  2012  English                      \n",
       "1          Drama, Romance  tt1659337  2012    English                    \n",
       "2           Comedy, Drama  tt1915581  2012    English                    \n",
       "3        Action, Thriller  tt1074638  2012    English                    \n",
       "4  Comedy, Drama, Romance  tt1045658  2012    English                    "
      ]
     },
     "execution_count": 5,
     "metadata": {},
     "output_type": "execute_result"
    }
   ],
   "source": [
    "#read few rows\n",
    "IMDB_dat.head()"
   ]
  },
  {
   "cell_type": "markdown",
   "metadata": {},
   "source": [
    "1) Extract the unique genres and its count and store in data frame with index key.<br>   filename['varname'].unique() method finds the unique values in the column.<br>2) To count the frequency of appearance of unique values and store both unique genres and its count into a dataframe,<br>      filename['varname'].value_counts().to_frame() method in used.<br>3) after performing the above step, there is a mismatch in the column head and a missing column head to resolve this,<br>    filename['varname'].value_counts().to_frame().reset_index() method is used. this helps in resetting the column heads. \n",
    "<br>4) new dataframe column heads names are given as 'Genre' and 'count' with the below method <br>        unique_genres_count_Rename=unique_genres_count.rename(columns={'index':'unique_genres','Genre':'count'})"
   ]
  },
  {
   "cell_type": "code",
   "execution_count": 6,
   "metadata": {},
   "outputs": [
    {
     "name": "stdout",
     "output_type": "stream",
     "text": [
      "                                         unique_genres  count\n",
      "0                                                Drama    689\n",
      "1                                               Comedy    389\n",
      "2                                        Comedy, Drama    231\n",
      "3                               Comedy, Drama, Romance    169\n",
      "4                                               Horror    115\n",
      "5                                       Drama, Romance    105\n",
      "6                                      Comedy, Romance     77\n",
      "7                                      Drama, Thriller     74\n",
      "8                                     Horror, Thriller     68\n",
      "9                               Crime, Drama, Thriller     61\n",
      "10                                       Drama, Family     53\n",
      "11                                Action, Crime, Drama     49\n",
      "12                                        Crime, Drama     48\n",
      "13                               Comedy, Drama, Family     43\n",
      "14                                              Action     41\n",
      "15                            Drama, Mystery, Thriller     40\n",
      "16                                Comedy, Crime, Drama     33\n",
      "17                                              Sci-Fi     31\n",
      "18                           Horror, Mystery, Thriller     29\n",
      "19                                      Drama, Mystery     28\n",
      "20                                   Mystery, Thriller     27\n",
      "21                                              Family     25\n",
      "22                                       Action, Drama     24\n",
      "23                            Adventure, Comedy, Drama     24\n",
      "24                               Action, Comedy, Drama     23\n",
      "25                              Comedy, Drama, Fantasy     22\n",
      "26                                             Musical     21\n",
      "27                                             Mystery     21\n",
      "28                                               Crime     20\n",
      "29                                        Drama, Music     20\n",
      "..                                                 ...    ...\n",
      "219         Action, Adventure, Drama, Sci-Fi, Thriller      1\n",
      "220                  Action, Biography, Drama, History      1\n",
      "221                             Family, Musical, Drama      1\n",
      "222  Action, Drama, Musical, Mystery, Romance, Thri...      1\n",
      "223            Action, Comedy, Drama, Mystery, Romance      1\n",
      "224                    Action, Drama, Mystery, Romance      1\n",
      "225                   Action, Adventure, Comedy, Drama      1\n",
      "226          Action, Adventure, Comedy, Crime, Musical      1\n",
      "227             Comedy, Drama, History, Music, Romance      1\n",
      "228          Drama, Horror, Mystery, Romance, Thriller      1\n",
      "229  Action, Musical, Mystery, Drama, Thriller, Rom...      1\n",
      "230                                     Musical, Drama      1\n",
      "231                                War, Drama, Romance      1\n",
      "232                     Comedy, Crime, Drama, Thriller      1\n",
      "233                         Musical, Mystery, Thriller      1\n",
      "234                           Musical, Comedy, Romance      1\n",
      "235                     Action, Drama, Crime, Thriller      1\n",
      "236                     Drama, Music, Musical, Romance      1\n",
      "237                        Musical, Drama, Action, War      1\n",
      "238                    Comedy, Musical, Drama, Romance      1\n",
      "239                                    Action, Musical      1\n",
      "240                           Family, History, Musical      1\n",
      "241                                  Horror, Adventure      1\n",
      "242                     Comedy, Musical, Drama, Family      1\n",
      "243                  Family, Sci-Fi, Adventure, Comedy      1\n",
      "244            Drama, Romance, Musical, Comedy, Action      1\n",
      "245                    Drama, Fantasy, Romance, Sci-Fi      1\n",
      "246            Action, Comedy, Crime, Musical, Romance      1\n",
      "247                  Action, Adventure, Comedy, Horror      1\n",
      "248                    Musical, Romance, Action, Drama      1\n",
      "\n",
      "[249 rows x 2 columns]\n"
     ]
    }
   ],
   "source": [
    "#extract unique values of GENRE  \n",
    "unique_genres=IMDB_dat['Genre'].unique()  \n",
    "#store it to the dataframe and reset index\n",
    "unique_genres_count=IMDB_dat['Genre'].value_counts().to_frame().reset_index()\n",
    "#rename columns with 'unique genres' and 'count'\n",
    "unique_genres_count_Rename=unique_genres_count.rename(columns={'index':'unique_genres','Genre':'count'})\n",
    "print(unique_genres_count_Rename)"
   ]
  },
  {
   "cell_type": "markdown",
   "metadata": {},
   "source": [
    "Convert the required data types to convert first the data types of the columns are checked using varname.dtypes(), Later 'imbdVotes' and 'imdbRating' are converted from object datatype to numeric to conduct aritmatic operations. "
   ]
  },
  {
   "cell_type": "code",
   "execution_count": 7,
   "metadata": {},
   "outputs": [
    {
     "name": "stdout",
     "output_type": "stream",
     "text": [
      "Plot          object\n",
      "Title         object\n",
      "imdbVotes     object\n",
      "Poster        object\n",
      "imdbRating    object\n",
      "Genre         object\n",
      "imdbID        object\n",
      "Year          object\n",
      "Language      object\n",
      "dtype: object\n"
     ]
    }
   ],
   "source": [
    "#check the data types\n",
    "datatype_check = IMDB_dat.dtypes\n",
    "print(datatype_check)"
   ]
  },
  {
   "cell_type": "markdown",
   "metadata": {},
   "source": [
    "pd.to_numeric() is used to convert object datatype to numeric ,errors are coerced."
   ]
  },
  {
   "cell_type": "code",
   "execution_count": 9,
   "metadata": {},
   "outputs": [],
   "source": [
    "IMDB_dat['imdbVotes']=pd.to_numeric(IMDB_dat['imdbVotes'],errors='coerce')\n",
    "IMDB_dat['imdbRating']=pd.to_numeric(IMDB_dat['imdbRating'],errors='coerce')"
   ]
  },
  {
   "attachments": {},
   "cell_type": "markdown",
   "metadata": {},
   "source": [
    " Sort the genre by its name, Genre colum is sorted in ascending alphabetical order"
   ]
  },
  {
   "cell_type": "code",
   "execution_count": 10,
   "metadata": {},
   "outputs": [
    {
     "data": {
      "text/html": [
       "<div>\n",
       "<style scoped>\n",
       "    .dataframe tbody tr th:only-of-type {\n",
       "        vertical-align: middle;\n",
       "    }\n",
       "\n",
       "    .dataframe tbody tr th {\n",
       "        vertical-align: top;\n",
       "    }\n",
       "\n",
       "    .dataframe thead th {\n",
       "        text-align: right;\n",
       "    }\n",
       "</style>\n",
       "<table border=\"1\" class=\"dataframe\">\n",
       "  <thead>\n",
       "    <tr style=\"text-align: right;\">\n",
       "      <th></th>\n",
       "      <th>Plot</th>\n",
       "      <th>Title</th>\n",
       "      <th>imdbVotes</th>\n",
       "      <th>Poster</th>\n",
       "      <th>imdbRating</th>\n",
       "      <th>Genre</th>\n",
       "      <th>imdbID</th>\n",
       "      <th>Year</th>\n",
       "      <th>Language</th>\n",
       "    </tr>\n",
       "  </thead>\n",
       "  <tbody>\n",
       "    <tr>\n",
       "      <th>368</th>\n",
       "      <td>A secret software created by the American gove...</td>\n",
       "      <td>Lethal Commission</td>\n",
       "      <td>1084.0</td>\n",
       "      <td>http://ia.media-imdb.com/images/M/MV5BODUyNDI1...</td>\n",
       "      <td>64.0</td>\n",
       "      <td>Action</td>\n",
       "      <td>tt2319919</td>\n",
       "      <td>2012</td>\n",
       "      <td>English</td>\n",
       "    </tr>\n",
       "    <tr>\n",
       "      <th>298</th>\n",
       "      <td>In this action flick, JUDE ST. CLERE discovers...</td>\n",
       "      <td>The Lackey</td>\n",
       "      <td>2672.0</td>\n",
       "      <td>http://ia.media-imdb.com/images/M/MV5BMjAwODIx...</td>\n",
       "      <td>71.0</td>\n",
       "      <td>Action</td>\n",
       "      <td>tt2197884</td>\n",
       "      <td>2012</td>\n",
       "      <td>English</td>\n",
       "    </tr>\n",
       "    <tr>\n",
       "      <th>3315</th>\n",
       "      <td>Eddy (Jayaprakash Reddy) is a powerful mafia l...</td>\n",
       "      <td>Nijam</td>\n",
       "      <td>803.0</td>\n",
       "      <td>NaN</td>\n",
       "      <td>6.5</td>\n",
       "      <td>Action</td>\n",
       "      <td>tt0368896</td>\n",
       "      <td>2003</td>\n",
       "      <td>Telugu</td>\n",
       "    </tr>\n",
       "    <tr>\n",
       "      <th>1142</th>\n",
       "      <td>Co-Director Tom Logan discusses the making of ...</td>\n",
       "      <td>Feature Commentary with Director Tom Logan</td>\n",
       "      <td>1421.0</td>\n",
       "      <td>http://ia.media-imdb.com/images/M/MV5BMTUzNDQ4...</td>\n",
       "      <td>68.0</td>\n",
       "      <td>Action</td>\n",
       "      <td>tt3099258</td>\n",
       "      <td>2013</td>\n",
       "      <td>English</td>\n",
       "    </tr>\n",
       "    <tr>\n",
       "      <th>1257</th>\n",
       "      <td>In a nuclear plant disaster, five teenagers fi...</td>\n",
       "      <td>Lock Down</td>\n",
       "      <td>1887.0</td>\n",
       "      <td>http://ia.media-imdb.com/images/M/MV5BMTgwMDg1...</td>\n",
       "      <td>54.0</td>\n",
       "      <td>Action</td>\n",
       "      <td>tt2349962</td>\n",
       "      <td>2013</td>\n",
       "      <td>English</td>\n",
       "    </tr>\n",
       "  </tbody>\n",
       "</table>\n",
       "</div>"
      ],
      "text/plain": [
       "                                                   Plot  \\\n",
       "368   A secret software created by the American gove...   \n",
       "298   In this action flick, JUDE ST. CLERE discovers...   \n",
       "3315  Eddy (Jayaprakash Reddy) is a powerful mafia l...   \n",
       "1142  Co-Director Tom Logan discusses the making of ...   \n",
       "1257  In a nuclear plant disaster, five teenagers fi...   \n",
       "\n",
       "                                           Title  imdbVotes  \\\n",
       "368                            Lethal Commission     1084.0   \n",
       "298                                   The Lackey     2672.0   \n",
       "3315                                       Nijam      803.0   \n",
       "1142  Feature Commentary with Director Tom Logan     1421.0   \n",
       "1257                                   Lock Down     1887.0   \n",
       "\n",
       "                                                 Poster  imdbRating   Genre  \\\n",
       "368   http://ia.media-imdb.com/images/M/MV5BODUyNDI1...        64.0  Action   \n",
       "298   http://ia.media-imdb.com/images/M/MV5BMjAwODIx...        71.0  Action   \n",
       "3315                                                NaN         6.5  Action   \n",
       "1142  http://ia.media-imdb.com/images/M/MV5BMTUzNDQ4...        68.0  Action   \n",
       "1257  http://ia.media-imdb.com/images/M/MV5BMTgwMDg1...        54.0  Action   \n",
       "\n",
       "         imdbID  Year                   Language  \n",
       "368   tt2319919  2012  English                    \n",
       "298   tt2197884  2012  English                    \n",
       "3315  tt0368896  2003  Telugu                     \n",
       "1142  tt3099258  2013  English                    \n",
       "1257  tt2349962  2013  English                    "
      ]
     },
     "execution_count": 10,
     "metadata": {},
     "output_type": "execute_result"
    }
   ],
   "source": [
    "IMDB_dat.sort_values(\"Genre\", axis = 0, ascending = True, inplace = True) \n",
    "IMDB_dat.head()"
   ]
  },
  {
   "attachments": {},
   "cell_type": "markdown",
   "metadata": {},
   "source": [
    "Create new variable whose values should be square of difference between imdbrating and imdbvotes ? ? arithmatic operations 'difference' and 'square' are applied on to the columns and the result is assigned to 'square of diff' ,which is added to the same data frame simultaneously."
   ]
  },
  {
   "cell_type": "code",
   "execution_count": 11,
   "metadata": {},
   "outputs": [
    {
     "data": {
      "text/html": [
       "<div>\n",
       "<style scoped>\n",
       "    .dataframe tbody tr th:only-of-type {\n",
       "        vertical-align: middle;\n",
       "    }\n",
       "\n",
       "    .dataframe tbody tr th {\n",
       "        vertical-align: top;\n",
       "    }\n",
       "\n",
       "    .dataframe thead th {\n",
       "        text-align: right;\n",
       "    }\n",
       "</style>\n",
       "<table border=\"1\" class=\"dataframe\">\n",
       "  <thead>\n",
       "    <tr style=\"text-align: right;\">\n",
       "      <th></th>\n",
       "      <th>Plot</th>\n",
       "      <th>Title</th>\n",
       "      <th>imdbVotes</th>\n",
       "      <th>Poster</th>\n",
       "      <th>imdbRating</th>\n",
       "      <th>Genre</th>\n",
       "      <th>imdbID</th>\n",
       "      <th>Year</th>\n",
       "      <th>Language</th>\n",
       "      <th>Square of diff</th>\n",
       "    </tr>\n",
       "  </thead>\n",
       "  <tbody>\n",
       "    <tr>\n",
       "      <th>368</th>\n",
       "      <td>A secret software created by the American gove...</td>\n",
       "      <td>Lethal Commission</td>\n",
       "      <td>1084.0</td>\n",
       "      <td>http://ia.media-imdb.com/images/M/MV5BODUyNDI1...</td>\n",
       "      <td>64.0</td>\n",
       "      <td>Action</td>\n",
       "      <td>tt2319919</td>\n",
       "      <td>2012</td>\n",
       "      <td>English</td>\n",
       "      <td>1040400.00</td>\n",
       "    </tr>\n",
       "    <tr>\n",
       "      <th>298</th>\n",
       "      <td>In this action flick, JUDE ST. CLERE discovers...</td>\n",
       "      <td>The Lackey</td>\n",
       "      <td>2672.0</td>\n",
       "      <td>http://ia.media-imdb.com/images/M/MV5BMjAwODIx...</td>\n",
       "      <td>71.0</td>\n",
       "      <td>Action</td>\n",
       "      <td>tt2197884</td>\n",
       "      <td>2012</td>\n",
       "      <td>English</td>\n",
       "      <td>6765201.00</td>\n",
       "    </tr>\n",
       "    <tr>\n",
       "      <th>3315</th>\n",
       "      <td>Eddy (Jayaprakash Reddy) is a powerful mafia l...</td>\n",
       "      <td>Nijam</td>\n",
       "      <td>803.0</td>\n",
       "      <td>NaN</td>\n",
       "      <td>6.5</td>\n",
       "      <td>Action</td>\n",
       "      <td>tt0368896</td>\n",
       "      <td>2003</td>\n",
       "      <td>Telugu</td>\n",
       "      <td>634412.25</td>\n",
       "    </tr>\n",
       "    <tr>\n",
       "      <th>1142</th>\n",
       "      <td>Co-Director Tom Logan discusses the making of ...</td>\n",
       "      <td>Feature Commentary with Director Tom Logan</td>\n",
       "      <td>1421.0</td>\n",
       "      <td>http://ia.media-imdb.com/images/M/MV5BMTUzNDQ4...</td>\n",
       "      <td>68.0</td>\n",
       "      <td>Action</td>\n",
       "      <td>tt3099258</td>\n",
       "      <td>2013</td>\n",
       "      <td>English</td>\n",
       "      <td>1830609.00</td>\n",
       "    </tr>\n",
       "    <tr>\n",
       "      <th>1257</th>\n",
       "      <td>In a nuclear plant disaster, five teenagers fi...</td>\n",
       "      <td>Lock Down</td>\n",
       "      <td>1887.0</td>\n",
       "      <td>http://ia.media-imdb.com/images/M/MV5BMTgwMDg1...</td>\n",
       "      <td>54.0</td>\n",
       "      <td>Action</td>\n",
       "      <td>tt2349962</td>\n",
       "      <td>2013</td>\n",
       "      <td>English</td>\n",
       "      <td>3359889.00</td>\n",
       "    </tr>\n",
       "  </tbody>\n",
       "</table>\n",
       "</div>"
      ],
      "text/plain": [
       "                                                   Plot  \\\n",
       "368   A secret software created by the American gove...   \n",
       "298   In this action flick, JUDE ST. CLERE discovers...   \n",
       "3315  Eddy (Jayaprakash Reddy) is a powerful mafia l...   \n",
       "1142  Co-Director Tom Logan discusses the making of ...   \n",
       "1257  In a nuclear plant disaster, five teenagers fi...   \n",
       "\n",
       "                                           Title  imdbVotes  \\\n",
       "368                            Lethal Commission     1084.0   \n",
       "298                                   The Lackey     2672.0   \n",
       "3315                                       Nijam      803.0   \n",
       "1142  Feature Commentary with Director Tom Logan     1421.0   \n",
       "1257                                   Lock Down     1887.0   \n",
       "\n",
       "                                                 Poster  imdbRating   Genre  \\\n",
       "368   http://ia.media-imdb.com/images/M/MV5BODUyNDI1...        64.0  Action   \n",
       "298   http://ia.media-imdb.com/images/M/MV5BMjAwODIx...        71.0  Action   \n",
       "3315                                                NaN         6.5  Action   \n",
       "1142  http://ia.media-imdb.com/images/M/MV5BMTUzNDQ4...        68.0  Action   \n",
       "1257  http://ia.media-imdb.com/images/M/MV5BMTgwMDg1...        54.0  Action   \n",
       "\n",
       "         imdbID  Year                   Language  Square of diff  \n",
       "368   tt2319919  2012  English                        1040400.00  \n",
       "298   tt2197884  2012  English                        6765201.00  \n",
       "3315  tt0368896  2003  Telugu                          634412.25  \n",
       "1142  tt3099258  2013  English                        1830609.00  \n",
       "1257  tt2349962  2013  English                        3359889.00  "
      ]
     },
     "execution_count": 11,
     "metadata": {},
     "output_type": "execute_result"
    }
   ],
   "source": [
    "#square of difference between imdbrating and imdbvotes\n",
    "IMDB_dat['Square of diff']=(IMDB_dat['imdbRating']-IMDB_dat['imdbVotes'])**2\n",
    "IMDB_dat.head()"
   ]
  },
  {
   "cell_type": "code",
   "execution_count": null,
   "metadata": {},
   "outputs": [],
   "source": []
  }
 ],
 "metadata": {
  "kernelspec": {
   "display_name": "Python 3",
   "language": "python",
   "name": "python3"
  },
  "language_info": {
   "codemirror_mode": {
    "name": "ipython",
    "version": 3
   },
   "file_extension": ".py",
   "mimetype": "text/x-python",
   "name": "python",
   "nbconvert_exporter": "python",
   "pygments_lexer": "ipython3",
   "version": "3.7.0"
  }
 },
 "nbformat": 4,
 "nbformat_minor": 2
}
